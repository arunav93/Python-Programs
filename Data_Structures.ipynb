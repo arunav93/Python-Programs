{
  "nbformat": 4,
  "nbformat_minor": 0,
  "metadata": {
    "colab": {
      "name": "Data_Structures.ipynb",
      "provenance": [],
      "collapsed_sections": [],
      "authorship_tag": "ABX9TyODDup5BVU41Q5soltoZ+dI",
      "include_colab_link": true
    },
    "kernelspec": {
      "name": "python3",
      "display_name": "Python 3"
    },
    "language_info": {
      "name": "python"
    }
  },
  "cells": [
    {
      "cell_type": "markdown",
      "metadata": {
        "id": "view-in-github",
        "colab_type": "text"
      },
      "source": [
        "<a href=\"https://colab.research.google.com/github/arunav93/Python-Programs/blob/main/Data_Structures.ipynb\" target=\"_parent\"><img src=\"https://colab.research.google.com/assets/colab-badge.svg\" alt=\"Open In Colab\"/></a>"
      ]
    },
    {
      "cell_type": "code",
      "execution_count": null,
      "metadata": {
        "colab": {
          "base_uri": "https://localhost:8080/"
        },
        "id": "G9I9FfVfW1rS",
        "outputId": "cdd51922-31ce-46a6-f237-f21ffa75ca75"
      },
      "outputs": [
        {
          "output_type": "execute_result",
          "data": {
            "text/plain": [
              "True"
            ]
          },
          "metadata": {},
          "execution_count": 5
        }
      ],
      "source": [
        "#ODD_EVEN\n",
        "def isEven(num):\n",
        "  if num%2==0:\n",
        "    return True\n",
        "  else:\n",
        "    return False\n",
        "\n",
        "isEven(104)"
      ]
    },
    {
      "cell_type": "code",
      "source": [
        "#TERNARY OPERATORS IN PYTHON:\n",
        "def isOdd(num):\n",
        "  return(True if num%2!=0 else False)"
      ],
      "metadata": {
        "id": "gaYxEIXSZK3l"
      },
      "execution_count": null,
      "outputs": []
    },
    {
      "cell_type": "code",
      "source": [
        "isOdd(90)"
      ],
      "metadata": {
        "colab": {
          "base_uri": "https://localhost:8080/"
        },
        "id": "yWWPxxPXZTSM",
        "outputId": "523a449c-3508-43fc-c446-1d9a0ab41d10"
      },
      "execution_count": null,
      "outputs": [
        {
          "output_type": "execute_result",
          "data": {
            "text/plain": [
              "False"
            ]
          },
          "metadata": {},
          "execution_count": 9
        }
      ]
    },
    {
      "cell_type": "code",
      "source": [
        "num= int(input(\"Enter\"))\n",
        "print(\"status of\",num,\"is\",isOdd(num))"
      ],
      "metadata": {
        "colab": {
          "base_uri": "https://localhost:8080/"
        },
        "id": "BX1i8TpaaWt9",
        "outputId": "640a4f20-5615-48f7-8950-2a2bec9df29f"
      },
      "execution_count": null,
      "outputs": [
        {
          "output_type": "stream",
          "name": "stdout",
          "text": [
            "Enter91\n",
            "status of 91 is True\n"
          ]
        }
      ]
    },
    {
      "cell_type": "code",
      "source": [
        "def time():\n",
        "  if time<12:\n",
        "    print('moring')\n",
        "  elif time<=16:\n",
        "    print('afternoon')\n",
        "  else:\n",
        "    print('dd')"
      ],
      "metadata": {
        "id": "6NcqiaPBXSiq"
      },
      "execution_count": null,
      "outputs": []
    },
    {
      "cell_type": "code",
      "source": [
        "def calculator_(n1,n2,op):\n",
        "  if op=='+':\n",
        "    return n1+n2\n",
        "  elif op=='-':\n",
        "    return n1-n2\n",
        "  elif op=='*':\n",
        "    return n1*n2"
      ],
      "metadata": {
        "id": "nKHb19VQbeuf"
      },
      "execution_count": null,
      "outputs": []
    },
    {
      "cell_type": "code",
      "source": [
        "\n",
        "def calculator():\n",
        "    num1 = int(input())\n",
        "    num2 = int(input())\n",
        "    operator = input()\n",
        "\n",
        "    print(calculator_(num1, num2, operator[0]))     #CORRECT "
      ],
      "metadata": {
        "id": "KMO8OcEwcOAe"
      },
      "execution_count": null,
      "outputs": []
    },
    {
      "cell_type": "code",
      "source": [
        "calculator()"
      ],
      "metadata": {
        "colab": {
          "base_uri": "https://localhost:8080/"
        },
        "id": "lOm3NkKncR7v",
        "outputId": "09413ac3-e2dc-406e-883c-af53041921ea"
      },
      "execution_count": null,
      "outputs": [
        {
          "output_type": "stream",
          "name": "stdout",
          "text": [
            "4\n",
            "5\n",
            "+\n",
            "9\n"
          ]
        }
      ]
    },
    {
      "cell_type": "code",
      "source": [
        "def isPrime(num):\n",
        "  for i in range(2,num):\n",
        "    if num%i==0:\n",
        "      return False\n",
        "  return True"
      ],
      "metadata": {
        "id": "1g2EMa2dfQRy"
      },
      "execution_count": null,
      "outputs": []
    },
    {
      "cell_type": "code",
      "source": [
        "isPrime(87)"
      ],
      "metadata": {
        "colab": {
          "base_uri": "https://localhost:8080/"
        },
        "id": "8FMXiR4Zh7Pz",
        "outputId": "6c0fa9a5-2dc0-4efe-886c-0918336f6cd3"
      },
      "execution_count": null,
      "outputs": [
        {
          "output_type": "execute_result",
          "data": {
            "text/plain": [
              "False"
            ]
          },
          "metadata": {},
          "execution_count": 40
        }
      ]
    },
    {
      "cell_type": "code",
      "source": [
        ""
      ],
      "metadata": {
        "id": "x8T-Rt9kh8zv"
      },
      "execution_count": null,
      "outputs": []
    }
  ]
}