{
  "nbformat": 4,
  "nbformat_minor": 0,
  "metadata": {
    "colab": {
      "name": "Coding Practice in Python",
      "provenance": [],
      "collapsed_sections": [],
      "authorship_tag": "ABX9TyMcoX/HLbvaIdP4QOAi4ekp",
      "include_colab_link": true
    },
    "kernelspec": {
      "name": "python3",
      "display_name": "Python 3"
    },
    "language_info": {
      "name": "python"
    }
  },
  "cells": [
    {
      "cell_type": "markdown",
      "metadata": {
        "id": "view-in-github",
        "colab_type": "text"
      },
      "source": [
        "<a href=\"https://colab.research.google.com/github/arunav93/Python-Programs/blob/main/Coding_Practice_in_Python.ipynb\" target=\"_parent\"><img src=\"https://colab.research.google.com/assets/colab-badge.svg\" alt=\"Open In Colab\"/></a>"
      ]
    },
    {
      "cell_type": "code",
      "source": [
        "#DataFrame\n",
        "import pandas as pd\n",
        "LoD = [{'a':10, 'b':20}, {'a':5, 'b':10, 'c':20}]\n",
        "D1 = pd.DataFrame(LoD)"
      ],
      "metadata": {
        "id": "7Ms8LKPcEXNx"
      },
      "execution_count": null,
      "outputs": []
    },
    {
      "cell_type": "code",
      "source": [
        "D1"
      ],
      "metadata": {
        "id": "2tb_o4l5TjSY",
        "outputId": "384e49e9-0b7e-46c8-f067-65236fbe47a7",
        "colab": {
          "base_uri": "https://localhost:8080/",
          "height": 112
        }
      },
      "execution_count": null,
      "outputs": [
        {
          "output_type": "execute_result",
          "data": {
            "text/plain": [
              "    a   b     c\n",
              "0  10  20   NaN\n",
              "1   5  10  20.0"
            ],
            "text/html": [
              "\n",
              "  <div id=\"df-bde254f0-4b9e-4508-9e5a-097201f7a791\">\n",
              "    <div class=\"colab-df-container\">\n",
              "      <div>\n",
              "<style scoped>\n",
              "    .dataframe tbody tr th:only-of-type {\n",
              "        vertical-align: middle;\n",
              "    }\n",
              "\n",
              "    .dataframe tbody tr th {\n",
              "        vertical-align: top;\n",
              "    }\n",
              "\n",
              "    .dataframe thead th {\n",
              "        text-align: right;\n",
              "    }\n",
              "</style>\n",
              "<table border=\"1\" class=\"dataframe\">\n",
              "  <thead>\n",
              "    <tr style=\"text-align: right;\">\n",
              "      <th></th>\n",
              "      <th>a</th>\n",
              "      <th>b</th>\n",
              "      <th>c</th>\n",
              "    </tr>\n",
              "  </thead>\n",
              "  <tbody>\n",
              "    <tr>\n",
              "      <th>0</th>\n",
              "      <td>10</td>\n",
              "      <td>20</td>\n",
              "      <td>NaN</td>\n",
              "    </tr>\n",
              "    <tr>\n",
              "      <th>1</th>\n",
              "      <td>5</td>\n",
              "      <td>10</td>\n",
              "      <td>20.0</td>\n",
              "    </tr>\n",
              "  </tbody>\n",
              "</table>\n",
              "</div>\n",
              "      <button class=\"colab-df-convert\" onclick=\"convertToInteractive('df-bde254f0-4b9e-4508-9e5a-097201f7a791')\"\n",
              "              title=\"Convert this dataframe to an interactive table.\"\n",
              "              style=\"display:none;\">\n",
              "        \n",
              "  <svg xmlns=\"http://www.w3.org/2000/svg\" height=\"24px\"viewBox=\"0 0 24 24\"\n",
              "       width=\"24px\">\n",
              "    <path d=\"M0 0h24v24H0V0z\" fill=\"none\"/>\n",
              "    <path d=\"M18.56 5.44l.94 2.06.94-2.06 2.06-.94-2.06-.94-.94-2.06-.94 2.06-2.06.94zm-11 1L8.5 8.5l.94-2.06 2.06-.94-2.06-.94L8.5 2.5l-.94 2.06-2.06.94zm10 10l.94 2.06.94-2.06 2.06-.94-2.06-.94-.94-2.06-.94 2.06-2.06.94z\"/><path d=\"M17.41 7.96l-1.37-1.37c-.4-.4-.92-.59-1.43-.59-.52 0-1.04.2-1.43.59L10.3 9.45l-7.72 7.72c-.78.78-.78 2.05 0 2.83L4 21.41c.39.39.9.59 1.41.59.51 0 1.02-.2 1.41-.59l7.78-7.78 2.81-2.81c.8-.78.8-2.07 0-2.86zM5.41 20L4 18.59l7.72-7.72 1.47 1.35L5.41 20z\"/>\n",
              "  </svg>\n",
              "      </button>\n",
              "      \n",
              "  <style>\n",
              "    .colab-df-container {\n",
              "      display:flex;\n",
              "      flex-wrap:wrap;\n",
              "      gap: 12px;\n",
              "    }\n",
              "\n",
              "    .colab-df-convert {\n",
              "      background-color: #E8F0FE;\n",
              "      border: none;\n",
              "      border-radius: 50%;\n",
              "      cursor: pointer;\n",
              "      display: none;\n",
              "      fill: #1967D2;\n",
              "      height: 32px;\n",
              "      padding: 0 0 0 0;\n",
              "      width: 32px;\n",
              "    }\n",
              "\n",
              "    .colab-df-convert:hover {\n",
              "      background-color: #E2EBFA;\n",
              "      box-shadow: 0px 1px 2px rgba(60, 64, 67, 0.3), 0px 1px 3px 1px rgba(60, 64, 67, 0.15);\n",
              "      fill: #174EA6;\n",
              "    }\n",
              "\n",
              "    [theme=dark] .colab-df-convert {\n",
              "      background-color: #3B4455;\n",
              "      fill: #D2E3FC;\n",
              "    }\n",
              "\n",
              "    [theme=dark] .colab-df-convert:hover {\n",
              "      background-color: #434B5C;\n",
              "      box-shadow: 0px 1px 3px 1px rgba(0, 0, 0, 0.15);\n",
              "      filter: drop-shadow(0px 1px 2px rgba(0, 0, 0, 0.3));\n",
              "      fill: #FFFFFF;\n",
              "    }\n",
              "  </style>\n",
              "\n",
              "      <script>\n",
              "        const buttonEl =\n",
              "          document.querySelector('#df-bde254f0-4b9e-4508-9e5a-097201f7a791 button.colab-df-convert');\n",
              "        buttonEl.style.display =\n",
              "          google.colab.kernel.accessAllowed ? 'block' : 'none';\n",
              "\n",
              "        async function convertToInteractive(key) {\n",
              "          const element = document.querySelector('#df-bde254f0-4b9e-4508-9e5a-097201f7a791');\n",
              "          const dataTable =\n",
              "            await google.colab.kernel.invokeFunction('convertToInteractive',\n",
              "                                                     [key], {});\n",
              "          if (!dataTable) return;\n",
              "\n",
              "          const docLinkHtml = 'Like what you see? Visit the ' +\n",
              "            '<a target=\"_blank\" href=https://colab.research.google.com/notebooks/data_table.ipynb>data table notebook</a>'\n",
              "            + ' to learn more about interactive tables.';\n",
              "          element.innerHTML = '';\n",
              "          dataTable['output_type'] = 'display_data';\n",
              "          await google.colab.output.renderOutput(dataTable, element);\n",
              "          const docLink = document.createElement('div');\n",
              "          docLink.innerHTML = docLinkHtml;\n",
              "          element.appendChild(docLink);\n",
              "        }\n",
              "      </script>\n",
              "    </div>\n",
              "  </div>\n",
              "  "
            ]
          },
          "metadata": {},
          "execution_count": 20
        }
      ]
    },
    {
      "cell_type": "markdown",
      "source": [
        "# Dictinary Comprehension:"
      ],
      "metadata": {
        "id": "RxzjXXGtaUIc"
      }
    },
    {
      "cell_type": "code",
      "source": [
        "def abcd(num_list):\n",
        "  return {i:i*3 for i in num_list}      #return sorts the numbers\n",
        "\n",
        "abcd([3,5,1,7])"
      ],
      "metadata": {
        "colab": {
          "base_uri": "https://localhost:8080/"
        },
        "id": "F4l0wpoN9XQT",
        "outputId": "3986840b-c37a-4f74-fa00-d9891dfceb7f"
      },
      "execution_count": null,
      "outputs": [
        {
          "output_type": "execute_result",
          "data": {
            "text/plain": [
              "{1: 3, 3: 9, 5: 15, 7: 21}"
            ]
          },
          "metadata": {},
          "execution_count": 2
        }
      ]
    },
    {
      "cell_type": "code",
      "source": [
        "def qwert(a,b):\n",
        "  myd= {x:y for (x,y) in zip(a,b)}\n",
        "  return(myd)\n",
        "a = [3,5,1,7,6]\n",
        "b = [2,9,3,4,5]  \n",
        "qwert(a,b)"
      ],
      "metadata": {
        "colab": {
          "base_uri": "https://localhost:8080/"
        },
        "id": "6r6OemyO9v5v",
        "outputId": "827e53fe-7fb6-4dd9-9abf-8ead5dbe1edd"
      },
      "execution_count": null,
      "outputs": [
        {
          "output_type": "execute_result",
          "data": {
            "text/plain": [
              "{1: 3, 3: 2, 5: 9, 6: 5, 7: 4}"
            ]
          },
          "metadata": {},
          "execution_count": 3
        }
      ]
    },
    {
      "cell_type": "code",
      "source": [
        "keys = [3,5,1,7,6]\n",
        "values = [2,9,3,4,5]  \n",
        "  \n",
        "# but this line shows dict comprehension here  \n",
        "myDict = { k:v for (k,v) in zip(keys, values)}  #doesnot sort\n",
        "  \n",
        "# We can use below too\n",
        "# myDict = dict(zip(keys, values))  \n",
        "  \n",
        "print (myDict)"
      ],
      "metadata": {
        "colab": {
          "base_uri": "https://localhost:8080/"
        },
        "id": "h33p3nCi_BLP",
        "outputId": "3f126980-c2f2-42a2-c6e0-7971342435b7"
      },
      "execution_count": null,
      "outputs": [
        {
          "output_type": "stream",
          "name": "stdout",
          "text": [
            "{3: 2, 5: 9, 1: 3, 7: 4, 6: 5}\n"
          ]
        }
      ]
    },
    {
      "cell_type": "markdown",
      "source": [
        "# Reverse a Number"
      ],
      "metadata": {
        "id": "FwiwIEJ3ang-"
      }
    },
    {
      "cell_type": "code",
      "source": [
        "num = 1234\n",
        "reversed_num = 0\n",
        "\n",
        "while num != 0:\n",
        "    digit = num % 10\n",
        "    reversed_num = reversed_num * 10 + digit\n",
        "    num //= 10\n",
        "\n",
        "print(\"Reversed Number: \" , reversed_num)"
      ],
      "metadata": {
        "colab": {
          "base_uri": "https://localhost:8080/"
        },
        "id": "CqJjAhryEYRx",
        "outputId": "401a7994-e2b6-46ab-cb10-f539e52d4e37"
      },
      "execution_count": null,
      "outputs": [
        {
          "output_type": "stream",
          "name": "stdout",
          "text": [
            "Reversed Number:  4321\n"
          ]
        }
      ]
    },
    {
      "cell_type": "code",
      "source": [
        "n=1234\n",
        "reverse=0\n",
        "while n!=0:\n",
        "  rem=n%10\n",
        "  reverse =  reverse*10 + rem\n",
        "  n=n//10\n",
        "print(reverse)"
      ],
      "metadata": {
        "colab": {
          "base_uri": "https://localhost:8080/"
        },
        "id": "oi7ZuAry_DNI",
        "outputId": "bbbe2378-378f-4f49-d590-c7144f3cd76f"
      },
      "execution_count": null,
      "outputs": [
        {
          "output_type": "stream",
          "name": "stdout",
          "text": [
            "4321\n"
          ]
        }
      ]
    },
    {
      "cell_type": "markdown",
      "source": [
        "# Reverse a String:"
      ],
      "metadata": {
        "id": "4mRzo3dqaspH"
      }
    },
    {
      "cell_type": "code",
      "source": [
        "text=\"abcdefg\"\n",
        "\n",
        "def reverse(text):\n",
        "  emp=\"\"\n",
        "  for i in text:\n",
        "    emp=i+ emp\n",
        "  return(emp)\n",
        "\n",
        "reverse(text)"
      ],
      "metadata": {
        "colab": {
          "base_uri": "https://localhost:8080/",
          "height": 36
        },
        "id": "TmhNbJqrALOo",
        "outputId": "4ec14811-560d-4666-c57a-64740a4c7151"
      },
      "execution_count": null,
      "outputs": [
        {
          "output_type": "execute_result",
          "data": {
            "text/plain": [
              "'gfedcba'"
            ],
            "application/vnd.google.colaboratory.intrinsic+json": {
              "type": "string"
            }
          },
          "metadata": {},
          "execution_count": 7
        }
      ]
    },
    {
      "cell_type": "code",
      "source": [
        "text=\"abcdefg\"\n",
        "\n",
        "def reverse(text):\n",
        "  \n",
        "  for i in text:\n",
        "    return(text[::-1])\n",
        "\n",
        "reverse(text)"
      ],
      "metadata": {
        "colab": {
          "base_uri": "https://localhost:8080/",
          "height": 36
        },
        "id": "Ss3hwzDXGiu3",
        "outputId": "dd35ff44-8594-4d5d-bdd7-bd69ded334d6"
      },
      "execution_count": null,
      "outputs": [
        {
          "output_type": "execute_result",
          "data": {
            "text/plain": [
              "'gfedcba'"
            ],
            "application/vnd.google.colaboratory.intrinsic+json": {
              "type": "string"
            }
          },
          "metadata": {},
          "execution_count": 8
        }
      ]
    },
    {
      "cell_type": "markdown",
      "source": [
        "#Sum of 2 in an array to get target:"
      ],
      "metadata": {
        "id": "rcrW05qeaxSx"
      }
    },
    {
      "cell_type": "code",
      "source": [
        "num_list = [10,30,40,50]\n",
        "for i in range(0, len(num_list)):\n",
        "    for j in range(i+1, len(num_list)):\n",
        "      print(num_list[i],num_list[j])"
      ],
      "metadata": {
        "colab": {
          "base_uri": "https://localhost:8080/"
        },
        "id": "nWIS76cWpzo9",
        "outputId": "0a8fceec-d33e-4a9a-dbec-cae78f8f51ac"
      },
      "execution_count": null,
      "outputs": [
        {
          "output_type": "stream",
          "name": "stdout",
          "text": [
            "10 30\n",
            "10 40\n",
            "10 50\n",
            "30 40\n",
            "30 50\n",
            "40 50\n"
          ]
        }
      ]
    },
    {
      "cell_type": "code",
      "source": [
        "def sum_match(num_list, target):\n",
        "  for i in range(0, len(num_list)):\n",
        "    for j in range(i+1, len(num_list)):\n",
        "      if num_list[i] + num_list[j] == target:\n",
        "        return True    \n",
        "  return False\n",
        "\n",
        "num_list = [1,2,3,4,5,6]\n",
        "target = 9\n",
        "sum_match(num_list, target)\n"
      ],
      "metadata": {
        "id": "eajTK2YyFo6p",
        "colab": {
          "base_uri": "https://localhost:8080/"
        },
        "outputId": "beb1d528-9aec-46f7-b417-6a70e2998e1a"
      },
      "execution_count": null,
      "outputs": [
        {
          "output_type": "execute_result",
          "data": {
            "text/plain": [
              "True"
            ]
          },
          "metadata": {},
          "execution_count": 14
        }
      ]
    },
    {
      "cell_type": "code",
      "source": [
        "def sum_match(num_list, target):\n",
        "  for i in num_list:\n",
        "    for j in num_list:\n",
        "      if target == i+j and i!=j: \n",
        "       return i,j\n",
        "\n",
        "\n",
        "num_list = [1,2,3,4,5,6]\n",
        "target = 9\n",
        "sum_match(num_list, target)"
      ],
      "metadata": {
        "colab": {
          "base_uri": "https://localhost:8080/"
        },
        "id": "lKGcZN1RTe-Z",
        "outputId": "dcc9590e-deba-44d9-e97e-4e3a32d4ef6a"
      },
      "execution_count": null,
      "outputs": [
        {
          "output_type": "execute_result",
          "data": {
            "text/plain": [
              "(3, 6)"
            ]
          },
          "metadata": {},
          "execution_count": 17
        }
      ]
    },
    {
      "cell_type": "markdown",
      "source": [
        "# Iterate over list of lists"
      ],
      "metadata": {
        "id": "-KtwSkk8TqK7"
      }
    },
    {
      "cell_type": "code",
      "source": [
        "a = [[1, 3, 4], [2, 4, 4], [3, 4, 5]]\n",
        "for i in a:\n",
        "  for number in i:\n",
        "     print(number)\n"
      ],
      "metadata": {
        "id": "xnfX-AaLjjxx",
        "colab": {
          "base_uri": "https://localhost:8080/"
        },
        "outputId": "bc8cc13c-16c5-43b0-8882-09b681127b2e"
      },
      "execution_count": 14,
      "outputs": [
        {
          "output_type": "stream",
          "name": "stdout",
          "text": [
            "1\n",
            "3\n",
            "4\n",
            "2\n",
            "4\n",
            "4\n",
            "3\n",
            "4\n",
            "5\n"
          ]
        }
      ]
    },
    {
      "cell_type": "code",
      "source": [
        "data = [1,2,3,[4,[5,6,7,[8,9]]]]\n",
        "\n",
        "def print_list(the_list):\n",
        "#Create a method to recursively iterate through nested lists. If the current element is an instance of list, then call the same method again. If not, print the current element. Here's an example:\n",
        "    for each_item in the_list:\n",
        "        if isinstance(each_item, type(list)): \n",
        "            print_list(each_item)\n",
        "        else:\n",
        "            print(each_item)\n",
        "\n",
        "print_list(data)"
      ],
      "metadata": {
        "colab": {
          "base_uri": "https://localhost:8080/"
        },
        "id": "lpBnwEwzT3lb",
        "outputId": "d0f6c8ca-0019-4b95-cf28-8c3f7ac5a8d4"
      },
      "execution_count": 15,
      "outputs": [
        {
          "output_type": "stream",
          "name": "stdout",
          "text": [
            "1\n",
            "2\n",
            "3\n",
            "4\n",
            "5\n",
            "6\n",
            "7\n",
            "8\n",
            "9\n"
          ]
        }
      ]
    },
    {
      "cell_type": "markdown",
      "source": [
        "# To check given number representation is in binary or not"
      ],
      "metadata": {
        "id": "gBQdFypPWCWW"
      }
    },
    {
      "cell_type": "code",
      "source": [
        "num = int(input(\"please give a number : \"))\n",
        "while(num>0):\n",
        "    j=num%10\n",
        "    if j!=0 and j!=1:\n",
        "        print(\"num is not binary\")\n",
        "        break\n",
        "    num=num//10\n",
        "    if num==0:\n",
        "        print(\"num is binary\") "
      ],
      "metadata": {
        "colab": {
          "base_uri": "https://localhost:8080/"
        },
        "id": "flYsuX0wUQu3",
        "outputId": "4229440f-de21-4816-b2ca-389fc4ab6445"
      },
      "execution_count": 18,
      "outputs": [
        {
          "output_type": "stream",
          "name": "stdout",
          "text": [
            "please give a number : 101\n",
            "num is binary\n"
          ]
        }
      ]
    },
    {
      "cell_type": "markdown",
      "source": [
        "# Program to print the pattern ‘G’"
      ],
      "metadata": {
        "id": "tlim4riyWlf6"
      }
    },
    {
      "cell_type": "code",
      "source": [
        "\n",
        "# Python program to print pattern G\n",
        "def Pattern(line):\n",
        "    pat=\"\"\n",
        "    for i in range(0,line):   \n",
        "        for j in range(0,line):    \n",
        "            if ((j == 1 and i != 0 and i != line-1) or ((i == 0 or\n",
        "                i == line-1) and j > 1 and j < line-2) or (i == ((line-1)/2)\n",
        "                and j > line-5 and j < line-1) or (j == line-2 and\n",
        "                i != 0 and i != line-1 and i >=((line-1)/2))): \n",
        "                pat=pat+\"*\"  \n",
        "            else:     \n",
        "                pat=pat+\" \"  \n",
        "        pat=pat+\"\\n\"  \n",
        "    return pat\n",
        "  \n",
        "# Driver Code\n",
        "line = 7\n",
        "print(Pattern(line))"
      ],
      "metadata": {
        "colab": {
          "base_uri": "https://localhost:8080/"
        },
        "id": "cKlj5GSPWkru",
        "outputId": "387b4e92-c604-4779-ab77-b11745428142"
      },
      "execution_count": 19,
      "outputs": [
        {
          "output_type": "stream",
          "name": "stdout",
          "text": [
            "  ***  \n",
            " *     \n",
            " *     \n",
            " * *** \n",
            " *   * \n",
            " *   * \n",
            "  ***  \n",
            "\n"
          ]
        }
      ]
    }
  ]
}